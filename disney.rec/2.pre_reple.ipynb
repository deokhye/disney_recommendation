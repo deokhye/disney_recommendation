{
 "metadata": {
  "language_info": {
   "codemirror_mode": {
    "name": "ipython",
    "version": 3
   },
   "file_extension": ".py",
   "mimetype": "text/x-python",
   "name": "python",
   "nbconvert_exporter": "python",
   "pygments_lexer": "ipython3",
   "version": "3.7.6-final"
  },
  "orig_nbformat": 2,
  "kernelspec": {
   "name": "python_defaultSpec_1598699369608",
   "display_name": "Python 3.7.6 64-bit ('base': conda)"
  }
 },
 "nbformat": 4,
 "nbformat_minor": 2,
 "cells": [
  {
   "cell_type": "code",
   "execution_count": 35,
   "metadata": {},
   "outputs": [],
   "source": [
    "#영어, 특수문자 지우기\n",
    "import re\n",
    "\n",
    "def clean_text(text):\n",
    "    cleaned_text = re.sub('[a-zA-z]','',text)\n",
    "    cleaned_text = re.sub('[\\{\\}\\[\\]\\/?.,;:|\\)*~`!^\\-_+<>@\\#$%&\\\\\\=\\(\\'\\\"\\♥\\♡\\ㅋ\\ㅠ\\ㅜ\\ㄱ\\ㅎ\\ㄲ\\ㅡ]1234567890','',cleaned_text)\n",
    "    return cleaned_text"
   ]
  },
  {
   "cell_type": "code",
   "execution_count": 36,
   "metadata": {},
   "outputs": [],
   "source": [
    "import pandas as pd\n",
    "import numpy as np\n",
    "import csv"
   ]
  },
  {
   "cell_type": "code",
   "execution_count": 37,
   "metadata": {
    "tags": []
   },
   "outputs": [
    {
     "output_type": "stream",
     "name": "stdout",
     "text": "code                                              reple\n0     187351  아빠가없는 우리꼬맹이랑 같이 봤어요  저혼자 울면서 보았네요    아이가 나도 저런...\n1     187351  픽사 영화는 묘한 뭔가가 있음  보고 나온 뒤에 시간이 지날수록 더 여운이 남고 자...\n2     187351                              재미있으면  공감  재미없으면  비공감\n3     187351                       기발합니다  큰 기대안하고 왔다가 울컥하고 갑니다 \n4     187351  이제까지 봐왔던 픽사 필름 중에선 조금 아쉬운 부분이 큰 영화이긴 하나  강력한 한...\n...      ...                                                ...\n8163   13172               Beauty and the Beast는 언제나 나를 눈물나게 한다\n8164   13172                                   이 영화의 모든게 아름답다  \n8165   13172            디즈니 오리지널 만화중 정말 좋은 영화  사운드트랙은 하나하나 명곡  \n8166   13172  미녀와 야수는 언제나  봐도 너무 감동적인 사랑이에요  Peabo Bryson와 C...\n8167   13172    라이온킹 알라딘과 더불어 오랫동안 기억에 남는 주제가  15년이 지나 다시봐도 재밌다\n\n[8168 rows x 2 columns]\n"
    }
   ],
   "source": [
    "data = pd.read_csv(\"movies_reple.csv\", index_col=False, encoding='utf-8', names=['code', 'reple'])    #datafram으로 바꿔오기\n",
    "#print(data)\n",
    "\n",
    "#nan 값 제거\n",
    "data['reple'] = data['reple'].str.replace(\"[^\\w]\", \" \")\n",
    "data['reple'] = data['reple'].replace('', np.nan)\n",
    "data = data.dropna(how='any')\n",
    "data = data.reset_index()\n",
    "data = data.iloc[:,1:]\n",
    "#print(data)\n",
    "\n",
    "#csv로 저장\n",
    "data.to_csv('reple_processing.csv')  \n",
    "print(data)"
   ]
  },
  {
   "cell_type": "code",
   "execution_count": 38,
   "metadata": {
    "tags": []
   },
   "outputs": [
    {
     "output_type": "stream",
     "name": "stdout",
     "text": "code                                              reple\n0     187351  아빠가없는 우리꼬맹이랑 같이 봤어요  저혼자 울면서 보았네요    아이가 나도 저런...\n1     187351  픽사 영화는 묘한 뭔가가 있음  보고 나온 뒤에 시간이 지날수록 더 여운이 남고 자...\n2     187351                              재미있으면  공감  재미없으면  비공감\n3     187351                       기발합니다  큰 기대안하고 왔다가 울컥하고 갑니다 \n4     187351  이제까지 봐왔던 픽사 필름 중에선 조금 아쉬운 부분이 큰 영화이긴 하나  강력한 한...\n...      ...                                                ...\n8163   13172                                   는 언제나 나를 눈물나게 한다\n8164   13172                                   이 영화의 모든게 아름답다  \n8165   13172            디즈니 오리지널 만화중 정말 좋은 영화  사운드트랙은 하나하나 명곡  \n8166   13172  미녀와 야수는 언제나  봐도 너무 감동적인 사랑이에요   와  이 부른것도 좋고 내...\n8167   13172    라이온킹 알라딘과 더불어 오랫동안 기억에 남는 주제가  15년이 지나 다시봐도 재밌다\n\n[8168 rows x 2 columns]\n"
    }
   ],
   "source": [
    "reple = data['reple']\n",
    "lst = []\n",
    "\n",
    "for i in reple:\n",
    "    lst.append(clean_text(i))\n",
    "#print(lst)\n",
    "\n",
    "data['reple'] = lst\n",
    "#print(data)\n",
    "\n",
    "data.to_csv(\"pre_reple.csv\", index=False)\n",
    "print(data)"
   ]
  },
  {
   "cell_type": "code",
   "execution_count": 39,
   "metadata": {
    "tags": []
   },
   "outputs": [],
   "source": [
    "# print(data)\n",
    "# print(len(data['code']))\n",
    "\n",
    "# print(data['code'])\n",
    "\n",
    "#코드 리스트 전체\n",
    "code_lst = []\n",
    "for i in data['code']:\n",
    "    code_lst.append(i)\n",
    "# print(code_lst)\n",
    "\n",
    "#코드 리스트 유니크\n",
    "code_lst_uniq = []\n",
    "for i in data['code'].unique():\n",
    "    code_lst_uniq.append(i)\n",
    "# print(code_lst_uniq)\n",
    "#code_lst.count(144330)/한 코드 당 약 100개\n",
    "\n",
    "#코드를 index로\n",
    "data_index = data\n",
    "data_index = data_index.set_index('code', drop = True, append=False, inplace=False)\n",
    "#print(data_index)\n",
    "\n",
    "#중복되는 코드면 reple을 리스트에 넣기\n",
    "#all_lst = []\n",
    "\n",
    "each_lst = []\n",
    "\n",
    "for i in code_lst_uniq:\n",
    "#     #cnt = code_lst.count(i)\n",
    "\n",
    "    #print(data_index.loc[i, 'reple'])\n",
    "    each_lst.append(data_index.loc[i, 'reple'])\n",
    "#print(each_lst[0])\n",
    "\n",
    "tolst = []\n",
    "for num in range(len(each_lst)):\n",
    "    series_lst = each_lst[num].tolist()\n",
    "    tolst.append(series_lst)\n",
    "\n",
    "# print(len(tolst))\n",
    "reple_lst = []\n",
    "# 리스트 한개로 만들기\n",
    "for i in range(len(tolst)):\n",
    "    new_line = \"\".join(tolst[i])\n",
    "    reple_lst.append(new_line)\n",
    "\n",
    "\n",
    "reple_dict = {}\n",
    "\n",
    "for i in range(len(tolst)):\n",
    "    code = code_lst_uniq[i]\n",
    "    plot = reple_lst[i]\n",
    "    reple_dict[code] = plot\n",
    "#print(reple_dict)"
   ]
  },
  {
   "cell_type": "code",
   "execution_count": 42,
   "metadata": {},
   "outputs": [],
   "source": [
    "with open('fianl_reple.csv', 'w', encoding='utf-8') as f:\n",
    "    for key in reple_dict.keys():\n",
    "        f.write(\"%s,%s\\n\"%(key,reple_dict[key]))\n",
    "        "
   ]
  },
  {
   "cell_type": "code",
   "execution_count": null,
   "metadata": {},
   "outputs": [],
   "source": []
  }
 ]
}